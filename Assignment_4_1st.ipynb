{
  "nbformat": 4,
  "nbformat_minor": 0,
  "metadata": {
    "colab": {
      "name": "Assignment_4_1st.ipynb",
      "version": "0.3.2",
      "provenance": [],
      "collapsed_sections": [],
      "include_colab_link": true
    },
    "kernelspec": {
      "name": "python3",
      "display_name": "Python 3"
    },
    "accelerator": "GPU"
  },
  "cells": [
    {
      "cell_type": "markdown",
      "metadata": {
        "id": "view-in-github",
        "colab_type": "text"
      },
      "source": [
        "<a href=\"https://colab.research.google.com/github/rudrakant22sep/EVA/blob/Session_4/Assignment_4_1st.ipynb\" target=\"_parent\"><img src=\"https://colab.research.google.com/assets/colab-badge.svg\" alt=\"Open In Colab\"/></a>"
      ]
    },
    {
      "cell_type": "markdown",
      "metadata": {
        "id": "POY8lkuZhJKT",
        "colab_type": "text"
      },
      "source": [
        "- Taking Assignment 3 final Code \"RudraKant_Assignment3__1st DNN___RESUBMIT.ipynb\" as I/p here \n",
        "-- Total params: 16,108\n",
        "-- Trainable params: 15,896\n",
        "-- Non-trainable params: 212\n",
        "-- Accuracy: [0.03483385611221311, 0.989]\n",
        "\n",
        "\n",
        "\n",
        "**CHANGE # 1**\n",
        "- removed off BatchNorm and DropRate from the code\n",
        "-- Total params: 15,684\n",
        "-- Trainable params: 15,684\n",
        "-- Non-trainable params: 0\n",
        "- Receieved the score: [0.043643074760204764, 0.987]\n",
        "- also had 32, 16, MP, 16 16, 16, 16, 16 and Flatten/ Softmax\n",
        "\n",
        "**CHANGE # 2**\n",
        "- change the kernel sizes to:-\n",
        "-- 28,28,1         ---> 32                                ---> RF (3x3), o/p shape (26x26x32)\n",
        "-- 26,26,32       ---> 64 | 128 | 256 | 512  ---> RF (11x11), o/p shape (18x18x512)\n",
        "-- 18x18x512  ---> MP                              ---> RF 22x22, o/p shape (9x9x512)\n",
        "-- 9x9x512      ---> 1x1 and 32 of those ---> 9x9x32\n",
        "-- 9x9x32        ---> 64 | 128 | 256 | 512   ---> RF 28x28, o/p: 1x1x512\n",
        "\n",
        "\n",
        "- Total params: 3,157,226\n",
        "-- Trainable params: 3,157,226\n",
        "-- Non-trainable params: 0\n",
        "- [1.4134399389266967, 0.3934]\n",
        "\n",
        "\n",
        "**CHANGE # 2.1**\n",
        "- change the kernel sizes to:-\n",
        "-- 28,28,1         ---> 32                                ---> RF (3x3), o/p shape (26x26x32)\n",
        "-- 26,26,32       ---> 64 | 128 | 256            ---> RF (9x9), o/p shape (20x20x256)\n",
        "-- 20x20x256  ---> MP                              ---> RF 18x18, o/p shape (10x10x256)\n",
        "-- 10x10x256  ---> 1x1 and 32 of those ---> 10x10x32\n",
        "-- 10x10x32    ---> 64 | 128 | 256             ---> RF 24x24, o/p: 4x4x256\n",
        "-- 4x4x256      ---> 1x1 and 10 of those ---> 4x4x10\n",
        "-- 4x4x10        --> 4x4 and 10 of those  ---> 1x1x10\n",
        "\n",
        "\n",
        "- Total params: 787,764\n",
        "-- Trainable params: 787,764\n",
        "-- Non-trainable params: 0\n",
        "- [0.0324602926693231, 0.9915]\n",
        "\n",
        "\n",
        "\n",
        "**CHANGE 2.2**\n",
        "- 32 | 64 | 128 | MP | 1x1 | 32 | 64 | 128 | 1x1x10 | O/p layer: conv -- flatten -- activation\n",
        "- Total params: 195,352\n",
        "-- Trainable params: 195,352\n",
        "-- Non-trainable params: 0\n",
        "- [0.027670406887089483, 0.9912]\n",
        "\n",
        "\n",
        "\n",
        "**CHANGE 2.3**\n",
        "- 32 | 64 | 128 | MP | 1x1 | 32 | 64 | 128 | 1x1x32 | conv64 | o/p layer: conv -- flatten -- activation\n",
        "- Total params: 214,936\n",
        "-- Trainable params: 214,936\n",
        "-- Non-trainable params: 0\n",
        "- [0.03810903527473711, 0.989]\n",
        "\n",
        "\n",
        "**CHANGE 2.4**\n",
        "\n",
        "- 32 | 64 | 128 | MP | 1x1x64 | 64 | 64 | 1x1x32 | 32 | 1x1x10  --> O/P layer -- conv5x5 --activation\n",
        "- Total params: 184,168\n",
        "-- Trainable params: 184,168\n",
        "-- Non-trainable params: 0\n",
        "- [0.03215297475233674, 0.9892]\n",
        "\n",
        "**CHANGE 2.5**\n",
        "- 28x28x1 --> 3x3x16 | 3x3x32 | 3x3x64 | MP | 1x1x16 | 3x3x32 | 3x3x64 | 1x1x16 | 3x3x16 | 1x1x10 | O/p Layer 5x5x10 -- activation\n",
        "- Total params: 53,512\n",
        "-- Trainable params: 53,512\n",
        "-- Non-trainable params: 0\n",
        "- [0.033571184229488606, 0.9918]\n",
        "\n",
        "\n",
        "*here I realized that 64 channels are the ones which are maximum contributing to parameters\n",
        "\n",
        "**CHANGE 2.6**\n",
        "- 28x8x1 --> 3x3x16 | 3x3x32 | 3x3x32 | MP | 1x1x16 | 3x3x32 | 3x3x32 |1x1x16 | 3x3x32 | 1x1x10 --> o/p Layer -- Conv 5x5x10 -- activation\n",
        "- Total params: 36,472\n",
        "-- Trainable params: 36,472\n",
        "-- Non-trainable params: 0\n",
        "- [0.029193071796320146, 0.9914]\n",
        "\n",
        "\n",
        "\n",
        "**CHANGE 2.7**\n",
        "- 28x28x1 ---> 3x3x16 | 3x3x16 | 3x3x16 | MP | 1x1x16 | 3x3x16 | 3x3x16 | 1x1x16 | 3x3x16 | 1x1x10 --> O/p Layer -- 5x5x10 -- activation\n",
        "- Total params: 14,984\n",
        "-- Trainable params: 14,984\n",
        "-- Non-trainable params: 0\n",
        "- [0.03264557908709976, 0.9907]\n",
        "\n",
        "**So, we will finalize the architecture in 2.7 above\n",
        "\n",
        "from keras.layers import Activation\n",
        "model = Sequential()\n",
        "droprate=0.11\n"
      ]
    },
    {
      "cell_type": "code",
      "metadata": {
        "id": "vorjoxZ1hI7F",
        "colab_type": "code",
        "colab": {}
      },
      "source": [
        ""
      ],
      "execution_count": 0,
      "outputs": []
    },
    {
      "cell_type": "code",
      "metadata": {
        "id": "3m3w1Cw49Zkt",
        "colab_type": "code",
        "colab": {}
      },
      "source": [
        "# https://keras.io/\n",
        "!pip install -q keras\n",
        "import keras"
      ],
      "execution_count": 0,
      "outputs": []
    },
    {
      "cell_type": "code",
      "metadata": {
        "id": "Eso6UHE080D4",
        "colab_type": "code",
        "colab": {}
      },
      "source": [
        "import numpy as np\n",
        "\n",
        "from keras.models import Sequential\n",
        "from keras.layers import Dense, Dropout, Activation, Flatten, Add\n",
        "from keras.layers import Convolution2D, MaxPooling2D\n",
        "from keras.utils import np_utils\n",
        "from keras.layers import BatchNormalization\n",
        "\n",
        "from keras.datasets import mnist"
      ],
      "execution_count": 0,
      "outputs": []
    },
    {
      "cell_type": "markdown",
      "metadata": {
        "id": "zByEi95J86RD",
        "colab_type": "text"
      },
      "source": [
        "### Load pre-shuffled MNIST data into train and test sets"
      ]
    },
    {
      "cell_type": "code",
      "metadata": {
        "id": "7eRM0QWN83PV",
        "colab_type": "code",
        "colab": {}
      },
      "source": [
        "(X_train, y_train), (X_test, y_test) = mnist.load_data()"
      ],
      "execution_count": 0,
      "outputs": []
    },
    {
      "cell_type": "code",
      "metadata": {
        "id": "4a4Be72j8-ZC",
        "colab_type": "code",
        "outputId": "fd61442e-02ed-44be-99cf-d34af8258f84",
        "colab": {
          "base_uri": "https://localhost:8080/",
          "height": 303
        }
      },
      "source": [
        "print (X_train.shape)\n",
        "from matplotlib import pyplot as plt\n",
        "%matplotlib inline\n",
        "plt.imshow(X_train[0])"
      ],
      "execution_count": 23,
      "outputs": [
        {
          "output_type": "stream",
          "text": [
            "(60000, 28, 28)\n"
          ],
          "name": "stdout"
        },
        {
          "output_type": "execute_result",
          "data": {
            "text/plain": [
              "<matplotlib.image.AxesImage at 0x7f1be11d8a20>"
            ]
          },
          "metadata": {
            "tags": []
          },
          "execution_count": 23
        },
        {
          "output_type": "display_data",
          "data": {
            "image/png": "[encoded data removed]",
            "text/plain": [
              "<Figure size 432x288 with 1 Axes>"
            ]
          },
          "metadata": {
            "tags": []
          }
        }
      ]
    },
    {
      "cell_type": "code",
      "metadata": {
        "id": "dkmprriw9AnZ",
        "colab_type": "code",
        "colab": {}
      },
      "source": [
        "X_train = X_train.reshape(X_train.shape[0], 28, 28,1)\n",
        "X_test = X_test.reshape(X_test.shape[0], 28, 28,1)"
      ],
      "execution_count": 0,
      "outputs": []
    },
    {
      "cell_type": "code",
      "metadata": {
        "id": "X2m4YS4E9CRh",
        "colab_type": "code",
        "colab": {}
      },
      "source": [
        "X_train = X_train.astype('float32')\n",
        "X_test = X_test.astype('float32')\n",
        "X_train /= 255\n",
        "X_test /= 255"
      ],
      "execution_count": 0,
      "outputs": []
    },
    {
      "cell_type": "code",
      "metadata": {
        "id": "0Mn0vAYD9DvB",
        "colab_type": "code",
        "outputId": "fadcf87f-9f65-405e-bdd1-8e6b80b543eb",
        "colab": {
          "base_uri": "https://localhost:8080/",
          "height": 34
        }
      },
      "source": [
        "y_train[:10]"
      ],
      "execution_count": 26,
      "outputs": [
        {
          "output_type": "execute_result",
          "data": {
            "text/plain": [
              "array([5, 0, 4, 1, 9, 2, 1, 3, 1, 4], dtype=uint8)"
            ]
          },
          "metadata": {
            "tags": []
          },
          "execution_count": 26
        }
      ]
    },
    {
      "cell_type": "code",
      "metadata": {
        "id": "ZG8JiXR39FHC",
        "colab_type": "code",
        "colab": {}
      },
      "source": [
        "# Convert 1-dimensional class arrays to 10-dimensional class matrices\n",
        "Y_train = np_utils.to_categorical(y_train, 10)\n",
        "Y_test = np_utils.to_categorical(y_test, 10)"
      ],
      "execution_count": 0,
      "outputs": []
    },
    {
      "cell_type": "code",
      "metadata": {
        "id": "fYlFRvKS9HMB",
        "colab_type": "code",
        "outputId": "dd5344ed-fd96-4f03-a5e3-86e3eb997b77",
        "colab": {
          "base_uri": "https://localhost:8080/",
          "height": 187
        }
      },
      "source": [
        "Y_train[:10]\n"
      ],
      "execution_count": 28,
      "outputs": [
        {
          "output_type": "execute_result",
          "data": {
            "text/plain": [
              "array([[0., 0., 0., 0., 0., 1., 0., 0., 0., 0.],\n",
              "       [1., 0., 0., 0., 0., 0., 0., 0., 0., 0.],\n",
              "       [0., 0., 0., 0., 1., 0., 0., 0., 0., 0.],\n",
              "       [0., 1., 0., 0., 0., 0., 0., 0., 0., 0.],\n",
              "       [0., 0., 0., 0., 0., 0., 0., 0., 0., 1.],\n",
              "       [0., 0., 1., 0., 0., 0., 0., 0., 0., 0.],\n",
              "       [0., 1., 0., 0., 0., 0., 0., 0., 0., 0.],\n",
              "       [0., 0., 0., 1., 0., 0., 0., 0., 0., 0.],\n",
              "       [0., 1., 0., 0., 0., 0., 0., 0., 0., 0.],\n",
              "       [0., 0., 0., 0., 1., 0., 0., 0., 0., 0.]], dtype=float32)"
            ]
          },
          "metadata": {
            "tags": []
          },
          "execution_count": 28
        }
      ]
    },
    {
      "cell_type": "markdown",
      "metadata": {
        "id": "90hS8ahBkqTk",
        "colab_type": "text"
      },
      "source": [
        ""
      ]
    },
    {
      "cell_type": "code",
      "metadata": {
        "id": "9XuddAnCFP-u",
        "colab_type": "code",
        "outputId": "dab2b311-b4a8-49bc-cbf9-029d470dcf95",
        "colab": {
          "base_uri": "https://localhost:8080/",
          "height": 238
        }
      },
      "source": [
        "from keras.layers import Activation\n",
        "model = Sequential()\n",
        "droprate=0.11\n",
        "\n",
        "\n",
        "# Initial Block\n",
        "##Input shape (28 X 28 X 1) \n",
        "model.add(Convolution2D(16, 3, 3, activation='relu', input_shape=(28,28,1)))\n",
        "            # RF  (3 X 3), O/p: (26 X 26 X 16)\n",
        "\n",
        "\n",
        "# Convolution Block\n",
        "model.add(Convolution2D(16,3,3, activation = 'relu'))  # RF: 5X5, o/p: 24X24X16\n",
        "model.add(Convolution2D(16,3,3, activation = 'relu')) # RF: 7x7, o/p: 22x22x16\n",
        "\n",
        "\n",
        "# Transition Block\n",
        "model.add(MaxPooling2D(2,2))                          # RF: 14x14, o/p: 11x11x16\n",
        "model.add(Convolution2D(16,1,1, activation = 'relu')) # RF: 14x14, o/p: 11x11x16\n",
        "\n",
        "\n",
        "# Convolution Block\n",
        "model.add(Convolution2D(16,3,3, activation = 'relu'))  # RF:16x16, o/p: 9x9x16\n",
        "model.add(Convolution2D(16,3,3, activation = 'relu')) # RF:18x18, o/p: 7x7x16\n",
        "\n",
        "\n",
        "# Transition Block\n",
        "model.add(Convolution2D(16, 1, 1, activation='relu'))  # RF: 18x18, o/p: 7x7x16\n",
        "\n",
        "\n",
        "# Convolution Block\n",
        "model.add(Convolution2D(16,3,3, activation = 'relu'))  # RF:20x20, o/p: 5x5x16\n",
        "\n",
        "\n",
        "# Transition Block\n",
        "model.add(Convolution2D(10, 1, 1, activation='relu'))  # RF: 20x20, o/p: 5x5x10\n",
        "\n",
        "# O/P layer\n",
        "model.add(Convolution2D(10, 5,5))                      # RF: 20x20, o/p: 1x1x10\n",
        "model.add(Flatten())\n",
        "model.add(Activation('softmax'))\n",
        "\n"
      ],
      "execution_count": 29,
      "outputs": [
        {
          "output_type": "stream",
          "text": [
            "/usr/local/lib/python3.6/dist-packages/ipykernel_launcher.py:8: UserWarning: Update your `Conv2D` call to the Keras 2 API: `Conv2D(16, (3, 3), activation=\"relu\", input_shape=(28, 28, 1...)`\n",
            "  \n",
            "/usr/local/lib/python3.6/dist-packages/ipykernel_launcher.py:13: UserWarning: Update your `Conv2D` call to the Keras 2 API: `Conv2D(16, (3, 3), activation=\"relu\")`\n",
            "  del sys.path[0]\n",
            "/usr/local/lib/python3.6/dist-packages/ipykernel_launcher.py:14: UserWarning: Update your `Conv2D` call to the Keras 2 API: `Conv2D(16, (3, 3), activation=\"relu\")`\n",
            "  \n",
            "/usr/local/lib/python3.6/dist-packages/ipykernel_launcher.py:19: UserWarning: Update your `Conv2D` call to the Keras 2 API: `Conv2D(16, (1, 1), activation=\"relu\")`\n",
            "/usr/local/lib/python3.6/dist-packages/ipykernel_launcher.py:23: UserWarning: Update your `Conv2D` call to the Keras 2 API: `Conv2D(16, (3, 3), activation=\"relu\")`\n",
            "/usr/local/lib/python3.6/dist-packages/ipykernel_launcher.py:24: UserWarning: Update your `Conv2D` call to the Keras 2 API: `Conv2D(16, (3, 3), activation=\"relu\")`\n",
            "/usr/local/lib/python3.6/dist-packages/ipykernel_launcher.py:28: UserWarning: Update your `Conv2D` call to the Keras 2 API: `Conv2D(16, (1, 1), activation=\"relu\")`\n",
            "/usr/local/lib/python3.6/dist-packages/ipykernel_launcher.py:32: UserWarning: Update your `Conv2D` call to the Keras 2 API: `Conv2D(16, (3, 3), activation=\"relu\")`\n",
            "/usr/local/lib/python3.6/dist-packages/ipykernel_launcher.py:36: UserWarning: Update your `Conv2D` call to the Keras 2 API: `Conv2D(10, (1, 1), activation=\"relu\")`\n",
            "/usr/local/lib/python3.6/dist-packages/ipykernel_launcher.py:39: UserWarning: Update your `Conv2D` call to the Keras 2 API: `Conv2D(10, (5, 5))`\n"
          ],
          "name": "stderr"
        }
      ]
    },
    {
      "cell_type": "code",
      "metadata": {
        "id": "TzdAYg1k9K7Z",
        "colab_type": "code",
        "outputId": "294a2115-89fd-442b-f62f-b66512559f89",
        "colab": {
          "base_uri": "https://localhost:8080/",
          "height": 578
        }
      },
      "source": [
        "model.summary()"
      ],
      "execution_count": 30,
      "outputs": [
        {
          "output_type": "stream",
          "text": [
            "_________________________________________________________________\n",
            "Layer (type)                 Output Shape              Param #   \n",
            "=================================================================\n",
            "conv2d_11 (Conv2D)           (None, 26, 26, 16)        160       \n",
            "_________________________________________________________________\n",
            "conv2d_12 (Conv2D)           (None, 24, 24, 16)        2320      \n",
            "_________________________________________________________________\n",
            "conv2d_13 (Conv2D)           (None, 22, 22, 16)        2320      \n",
            "_________________________________________________________________\n",
            "max_pooling2d_2 (MaxPooling2 (None, 11, 11, 16)        0         \n",
            "_________________________________________________________________\n",
            "conv2d_14 (Conv2D)           (None, 11, 11, 16)        272       \n",
            "_________________________________________________________________\n",
            "conv2d_15 (Conv2D)           (None, 9, 9, 16)          2320      \n",
            "_________________________________________________________________\n",
            "conv2d_16 (Conv2D)           (None, 7, 7, 16)          2320      \n",
            "_________________________________________________________________\n",
            "conv2d_17 (Conv2D)           (None, 7, 7, 16)          272       \n",
            "_________________________________________________________________\n",
            "conv2d_18 (Conv2D)           (None, 5, 5, 16)          2320      \n",
            "_________________________________________________________________\n",
            "conv2d_19 (Conv2D)           (None, 5, 5, 10)          170       \n",
            "_________________________________________________________________\n",
            "conv2d_20 (Conv2D)           (None, 1, 1, 10)          2510      \n",
            "_________________________________________________________________\n",
            "flatten_2 (Flatten)          (None, 10)                0         \n",
            "_________________________________________________________________\n",
            "activation_2 (Activation)    (None, 10)                0         \n",
            "=================================================================\n",
            "Total params: 14,984\n",
            "Trainable params: 14,984\n",
            "Non-trainable params: 0\n",
            "_________________________________________________________________\n"
          ],
          "name": "stdout"
        }
      ]
    },
    {
      "cell_type": "code",
      "metadata": {
        "id": "Zp6SuGrL9M3h",
        "colab_type": "code",
        "colab": {}
      },
      "source": [
        "model.compile(loss='categorical_crossentropy',\n",
        "             optimizer='adam',\n",
        "             metrics=['accuracy'])"
      ],
      "execution_count": 0,
      "outputs": []
    },
    {
      "cell_type": "code",
      "metadata": {
        "id": "4xWoKhPY9Of5",
        "colab_type": "code",
        "outputId": "f73d8d1e-0131-4fd4-b2e5-4a5fb7377edb",
        "colab": {
          "base_uri": "https://localhost:8080/",
          "height": 408
        }
      },
      "source": [
        "model.fit(X_train, Y_train, batch_size=32, nb_epoch=10, verbose=1)"
      ],
      "execution_count": 32,
      "outputs": [
        {
          "output_type": "stream",
          "text": [
            "/usr/local/lib/python3.6/dist-packages/ipykernel_launcher.py:1: UserWarning: The `nb_epoch` argument in `fit` has been renamed `epochs`.\n",
            "  \"\"\"Entry point for launching an IPython kernel.\n"
          ],
          "name": "stderr"
        },
        {
          "output_type": "stream",
          "text": [
            "Epoch 1/10\n",
            "60000/60000 [==============================] - 41s 690us/step - loss: 0.2703 - acc: 0.9146\n",
            "Epoch 2/10\n",
            "60000/60000 [==============================] - 39s 656us/step - loss: 0.0904 - acc: 0.9724\n",
            "Epoch 3/10\n",
            "60000/60000 [==============================] - 39s 656us/step - loss: 0.0652 - acc: 0.9802\n",
            "Epoch 4/10\n",
            "60000/60000 [==============================] - 26s 441us/step - loss: 0.0546 - acc: 0.9834\n",
            "Epoch 5/10\n",
            "60000/60000 [==============================] - 26s 440us/step - loss: 0.0466 - acc: 0.9856\n",
            "Epoch 6/10\n",
            "60000/60000 [==============================] - 26s 440us/step - loss: 0.0401 - acc: 0.9875\n",
            "Epoch 7/10\n",
            "60000/60000 [==============================] - 26s 434us/step - loss: 0.0366 - acc: 0.9886\n",
            "Epoch 8/10\n",
            "60000/60000 [==============================] - 26s 440us/step - loss: 0.0331 - acc: 0.9898\n",
            "Epoch 9/10\n",
            "60000/60000 [==============================] - 26s 435us/step - loss: 0.0308 - acc: 0.9905\n",
            "Epoch 10/10\n",
            "60000/60000 [==============================] - 26s 438us/step - loss: 0.0284 - acc: 0.9909\n"
          ],
          "name": "stdout"
        },
        {
          "output_type": "execute_result",
          "data": {
            "text/plain": [
              "<keras.callbacks.History at 0x7f1be0c1bba8>"
            ]
          },
          "metadata": {
            "tags": []
          },
          "execution_count": 32
        }
      ]
    },
    {
      "cell_type": "code",
      "metadata": {
        "id": "AtsH-lLk-eLb",
        "colab_type": "code",
        "colab": {}
      },
      "source": [
        "score = model.evaluate(X_test, Y_test, verbose=0)"
      ],
      "execution_count": 0,
      "outputs": []
    },
    {
      "cell_type": "code",
      "metadata": {
        "id": "mkX8JMv79q9r",
        "colab_type": "code",
        "outputId": "52be338b-5e72-4feb-d079-34ee070466ff",
        "colab": {
          "base_uri": "https://localhost:8080/",
          "height": 34
        }
      },
      "source": [
        "print(score)"
      ],
      "execution_count": 34,
      "outputs": [
        {
          "output_type": "stream",
          "text": [
            "[0.03502637046401506, 0.9893]\n"
          ],
          "name": "stdout"
        }
      ]
    },
    {
      "cell_type": "code",
      "metadata": {
        "id": "OCWoJkwE9suh",
        "colab_type": "code",
        "colab": {}
      },
      "source": [
        "y_pred = model.predict(X_test)"
      ],
      "execution_count": 0,
      "outputs": []
    },
    {
      "cell_type": "code",
      "metadata": {
        "id": "Ym7iCFBm9uBs",
        "colab_type": "code",
        "outputId": "396e4aec-a91a-471f-cc48-2275bf2553fc",
        "colab": {
          "base_uri": "https://localhost:8080/",
          "height": 493
        }
      },
      "source": [
        "print(y_pred[:9])\n",
        "print(y_test[:9])"
      ],
      "execution_count": 36,
      "outputs": [
        {
          "output_type": "stream",
          "text": [
            "[[2.34921589e-14 2.11336655e-08 1.18886106e-07 7.56691065e-07\n",
            "  7.13232804e-13 2.97180835e-09 4.51413624e-20 9.99999046e-01\n",
            "  5.82917936e-10 1.79445987e-08]\n",
            " [2.43673730e-06 5.39758602e-08 9.99997020e-01 1.79362289e-10\n",
            "  1.97489570e-16 1.65598482e-14 4.17390567e-07 3.77026382e-16\n",
            "  3.06065971e-11 6.92694810e-20]\n",
            " [1.51206319e-08 9.99706566e-01 5.82676137e-07 3.21900160e-08\n",
            "  3.20192021e-06 6.97313453e-07 5.54883115e-07 2.87812669e-04\n",
            "  5.90397462e-07 1.72023586e-08]\n",
            " [9.98147964e-01 2.95209670e-08 1.41452142e-06 2.73355187e-08\n",
            "  2.28388841e-09 3.77403381e-07 1.84903550e-03 1.71109099e-10\n",
            "  1.15806040e-06 1.82366211e-09]\n",
            " [5.13335763e-10 9.21225407e-09 9.06181015e-08 3.21252358e-08\n",
            "  9.99950409e-01 2.53787107e-08 1.01837841e-07 5.09451992e-09\n",
            "  4.27617124e-08 4.93565531e-05]\n",
            " [5.30490674e-09 9.99765813e-01 1.51775623e-07 3.39042860e-09\n",
            "  5.35389631e-07 5.01792350e-08 5.92988378e-08 2.33321334e-04\n",
            "  8.70183783e-08 9.14525788e-09]\n",
            " [1.07885402e-10 8.33353079e-06 4.99842145e-07 1.12928278e-09\n",
            "  9.98160779e-01 9.18581861e-07 9.24699987e-13 2.15656951e-06\n",
            "  1.28298812e-03 5.44359849e-04]\n",
            " [5.41098260e-08 2.42124570e-10 8.07124252e-06 1.56098012e-09\n",
            "  1.04947396e-01 5.29963913e-08 1.75540034e-11 2.33917028e-08\n",
            "  4.67884320e-06 8.95039678e-01]\n",
            " [2.61362959e-10 6.28187281e-14 1.24903199e-14 1.44736972e-10\n",
            "  2.03129631e-14 9.98526812e-01 1.45092176e-03 2.13075811e-18\n",
            "  2.23118659e-05 3.77486861e-11]]\n",
            "[7 2 1 0 4 1 4 9 5]\n"
          ],
          "name": "stdout"
        }
      ]
    },
    {
      "cell_type": "code",
      "metadata": {
        "id": "CT--y98_dr2T",
        "colab_type": "code",
        "colab": {}
      },
      "source": [
        "layer_dict = dict([(layer.name, layer) for layer in model.layers])"
      ],
      "execution_count": 0,
      "outputs": []
    },
    {
      "cell_type": "code",
      "metadata": {
        "id": "2GY4Upv4dsUR",
        "colab_type": "code",
        "outputId": "71497c94-3392-4ea7-e619-a96f505d4811",
        "colab": {
          "base_uri": "https://localhost:8080/",
          "height": 741
        }
      },
      "source": [
        "import numpy as np\n",
        "from matplotlib import pyplot as plt\n",
        "from keras import backend as K\n",
        "%matplotlib inline\n",
        "# util function to convert a tensor into a valid image\n",
        "def deprocess_image(x):\n",
        "    # normalize tensor: center on 0., ensure std is 0.1\n",
        "    x -= x.mean()\n",
        "    x /= (x.std() + 1e-5)\n",
        "    x *= 0.1\n",
        "\n",
        "    # clip to [0, 1]\n",
        "    x += 0.5\n",
        "    x = np.clip(x, 0, 1)\n",
        "\n",
        "    # convert to RGB array\n",
        "    x *= 255\n",
        "    #x = x.transpose((1, 2, 0))\n",
        "    x = np.clip(x, 0, 255).astype('uint8')\n",
        "    return x\n",
        "\n",
        "def vis_img_in_filter(img = np.array(X_train[2]).reshape((1, 28, 28, 1)).astype(np.float64), \n",
        "                      layer_name = 'conv2d_14'):\n",
        "    layer_output = layer_dict[layer_name].output\n",
        "    img_ascs = list()\n",
        "    for filter_index in range(layer_output.shape[3]):\n",
        "        # build a loss function that maximizes the activation\n",
        "        # of the nth filter of the layer considered\n",
        "        loss = K.mean(layer_output[:, :, :, filter_index])\n",
        "\n",
        "        # compute the gradient of the input picture wrt this loss\n",
        "        grads = K.gradients(loss, model.input)[0]\n",
        "\n",
        "        # normalization trick: we normalize the gradient\n",
        "        grads /= (K.sqrt(K.mean(K.square(grads))) + 1e-5)\n",
        "\n",
        "        # this function returns the loss and grads given the input picture\n",
        "        iterate = K.function([model.input], [loss, grads])\n",
        "\n",
        "        # step size for gradient ascent\n",
        "        step = 5.\n",
        "\n",
        "        img_asc = np.array(img)\n",
        "        # run gradient ascent for 20 steps\n",
        "        for i in range(20):\n",
        "            loss_value, grads_value = iterate([img_asc])\n",
        "            img_asc += grads_value * step\n",
        "\n",
        "        img_asc = img_asc[0]\n",
        "        img_ascs.append(deprocess_image(img_asc).reshape((28, 28)))\n",
        "        \n",
        "    if layer_output.shape[3] >= 35:\n",
        "        plot_x, plot_y = 6, 6\n",
        "    elif layer_output.shape[3] >= 23:\n",
        "        plot_x, plot_y = 4, 6\n",
        "    elif layer_output.shape[3] >= 11:\n",
        "        plot_x, plot_y = 2, 6\n",
        "    else:\n",
        "        plot_x, plot_y = 1, 2\n",
        "    fig, ax = plt.subplots(plot_x, plot_y, figsize = (12, 12))\n",
        "    ax[0, 0].imshow(img.reshape((28, 28)), cmap = 'gray')\n",
        "    ax[0, 0].set_title('Input image')\n",
        "    fig.suptitle('Input image and %s filters' % (layer_name,))\n",
        "    fig.tight_layout(pad = 0.3, rect = [0, 0, 0.9, 0.9])\n",
        "    for (x, y) in [(i, j) for i in range(plot_x) for j in range(plot_y)]:\n",
        "        if x == 0 and y == 0:\n",
        "            continue\n",
        "        ax[x, y].imshow(img_ascs[x * plot_y + y - 1], cmap = 'gray')\n",
        "        ax[x, y].set_title('filter %d' % (x * plot_y + y - 1))\n",
        "\n",
        "vis_img_in_filter()"
      ],
      "execution_count": 38,
      "outputs": [
        {
          "output_type": "display_data",
          "data": {
            "image/png": "[encoded data removed]",
            "text/plain": [
              "<Figure size 864x864 with 12 Axes>"
            ]
          },
          "metadata": {
            "tags": []
          }
        }
      ]
    },
    {
      "cell_type": "code",
      "metadata": {
        "id": "9tvptcn8dxvp",
        "colab_type": "code",
        "colab": {}
      },
      "source": [
        ""
      ],
      "execution_count": 0,
      "outputs": []
    }
  ]
}