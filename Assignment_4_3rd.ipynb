{
  "nbformat": 4,
  "nbformat_minor": 0,
  "metadata": {
    "colab": {
      "name": "Assignment_4_3rd.ipynb",
      "version": "0.3.2",
      "provenance": [],
      "collapsed_sections": [],
      "include_colab_link": true
    },
    "kernelspec": {
      "name": "python3",
      "display_name": "Python 3"
    },
    "accelerator": "GPU"
  },
  "cells": [
    {
      "cell_type": "markdown",
      "metadata": {
        "id": "view-in-github",
        "colab_type": "text"
      },
      "source": [
        "<a href=\"https://colab.research.google.com/github/rudrakant22sep/EVA/blob/Session_4/Assignment_4_3rd.ipynb\" target=\"_parent\"><img src=\"https://colab.research.google.com/assets/colab-badge.svg\" alt=\"Open In Colab\"/></a>"
      ]
    },
    {
      "cell_type": "markdown",
      "metadata": {
        "id": "JxKRAHgnhDkz",
        "colab_type": "text"
      },
      "source": [
        "***Taking Assignment 3 final Code \"Assignment_4_2nd_Draft.ipynb\" as I/p here*** \n",
        "\n",
        "- I/p here has:-\n",
        "- 28x28x1 ---> 3x3x10 | 3x3x16 | 3x3x16 | MP | 1x1x16 | 3x3x16 | 3x3x16 | 1x1x16 | 3x3x16 | 1x1x10 --> O/p Layer -- 5x5x10 -- activation\n",
        "-- BatchNormalization & DropOut (of 0.1) added to all Convolution Layer, EXCEPT the prediction Layer\n",
        "-- added ValidationAccuracy in the MODEL.FIT for the X & Y test data\n",
        "- Total params: 14,588\n",
        "-- Trainable params: 14,324\n",
        "-- Non-trainable params: 264\n",
        "- [0.02869177752629621, 0.9913]\n",
        "\n",
        "**CHANGE # 1**\n",
        "- increase the EPOCH Count in Model.fit from 10 to 20\n",
        "-- [0.026656645488750654, 0.991]\n",
        "\n",
        "\n",
        "\n",
        "**CHANGE # 2**\n",
        "- setting EPOCH back to 10 and changing Batch_Size to 64, 256, 512\n",
        "-- with 64 batch_size, [0.028849668405984994, 0.9913]\n",
        "-- with 128 batch_size, [0.026942020520509688, 0.9906]\n",
        "-- with 256 batch_size, [0.02794412565836683, 0.9911]\n",
        "-- with 512 batch_size, [0.033558009410300293, 0.9906]\n",
        "\n",
        "==> SO, increasing BATCH_Size has not had had any predictable improvement\n",
        "\n",
        "**CHANGE # 3**\n",
        "- setting Epoch 20, batch size 512, ==> 99.21%\n",
        "- E = 20, B_S = 256, ==> 99.22%\n",
        "- E = 20, B_S = 128, ==> 99.26%\n",
        "- E = 20, B_S = 64,   ==> 99.38%\n",
        "- E = 25, B_S = 64,   ==> 99.35%\n",
        "- E = 25, B_S = 128, ==> 99.23%\n",
        "- ***E = 30, B_S = 64,   ==> 99.42% <<<<<<<< Achieved   >= 99.40% accuracy***\n",
        "\n",
        "- E = 30, B_S = 64, droprate = 0.15, ==> 99.28%\n",
        "- E = 30, B_S = 64, droprate = 0.11, ==> 99.38%\n",
        "- E = 30, B_S = 64, droprate = 0.08, ==> 99.24%\n",
        "\n",
        "**HENCE, setting the changes back 0.1 as dropout, E = 30, and BS = 64**\n",
        "\n",
        "\n"
      ]
    },
    {
      "cell_type": "code",
      "metadata": {
        "id": "3m3w1Cw49Zkt",
        "colab_type": "code",
        "colab": {
          "base_uri": "https://localhost:8080/",
          "height": 34
        },
        "outputId": "aeb3f6b6-3fa4-485f-abda-2ea38e3cc550"
      },
      "source": [
        "# https://keras.io/\n",
        "!pip install -q keras\n",
        "import keras"
      ],
      "execution_count": 1,
      "outputs": [
        {
          "output_type": "stream",
          "text": [
            "Using TensorFlow backend.\n"
          ],
          "name": "stderr"
        }
      ]
    },
    {
      "cell_type": "code",
      "metadata": {
        "id": "Eso6UHE080D4",
        "colab_type": "code",
        "colab": {}
      },
      "source": [
        "import numpy as np\n",
        "\n",
        "from keras.models import Sequential\n",
        "from keras.layers import Dense, Dropout, Activation, Flatten, Add\n",
        "from keras.layers import Convolution2D, MaxPooling2D\n",
        "from keras.utils import np_utils\n",
        "from keras.layers import BatchNormalization\n",
        "\n",
        "from keras.datasets import mnist"
      ],
      "execution_count": 0,
      "outputs": []
    },
    {
      "cell_type": "markdown",
      "metadata": {
        "id": "zByEi95J86RD",
        "colab_type": "text"
      },
      "source": [
        "### Load pre-shuffled MNIST data into train and test sets"
      ]
    },
    {
      "cell_type": "code",
      "metadata": {
        "id": "7eRM0QWN83PV",
        "colab_type": "code",
        "colab": {}
      },
      "source": [
        "(X_train, y_train), (X_test, y_test) = mnist.load_data()"
      ],
      "execution_count": 0,
      "outputs": []
    },
    {
      "cell_type": "code",
      "metadata": {
        "id": "4a4Be72j8-ZC",
        "colab_type": "code",
        "outputId": "4cd7a6e9-cfa7-4f06-e92c-feafc9badba7",
        "colab": {
          "base_uri": "https://localhost:8080/",
          "height": 303
        }
      },
      "source": [
        "print (X_train.shape)\n",
        "from matplotlib import pyplot as plt\n",
        "%matplotlib inline\n",
        "plt.imshow(X_train[0])"
      ],
      "execution_count": 4,
      "outputs": [
        {
          "output_type": "stream",
          "text": [
            "(60000, 28, 28)\n"
          ],
          "name": "stdout"
        },
        {
          "output_type": "execute_result",
          "data": {
            "text/plain": [
              "<matplotlib.image.AxesImage at 0x7f04b260ff28>"
            ]
          },
          "metadata": {
            "tags": []
          },
          "execution_count": 4
        },
        {
          "output_type": "display_data",
          "data": {
            "image/png": "[encoded data removed]",
            "text/plain": [
              "<Figure size 432x288 with 1 Axes>"
            ]
          },
          "metadata": {
            "tags": []
          }
        }
      ]
    },
    {
      "cell_type": "markdown",
      "metadata": {
        "id": "TVY1uKpYX0LY",
        "colab_type": "text"
      },
      "source": [
        ""
      ]
    },
    {
      "cell_type": "code",
      "metadata": {
        "id": "dkmprriw9AnZ",
        "colab_type": "code",
        "colab": {}
      },
      "source": [
        "X_train = X_train.reshape(X_train.shape[0], 28, 28,1)\n",
        "X_test = X_test.reshape(X_test.shape[0], 28, 28,1)"
      ],
      "execution_count": 0,
      "outputs": []
    },
    {
      "cell_type": "code",
      "metadata": {
        "id": "X2m4YS4E9CRh",
        "colab_type": "code",
        "colab": {}
      },
      "source": [
        "X_train = X_train.astype('float32')\n",
        "X_test = X_test.astype('float32')\n",
        "X_train /= 255\n",
        "X_test /= 255"
      ],
      "execution_count": 0,
      "outputs": []
    },
    {
      "cell_type": "code",
      "metadata": {
        "id": "0Mn0vAYD9DvB",
        "colab_type": "code",
        "outputId": "41999c68-bbb3-4835-bbe7-d702a1b2d3e4",
        "colab": {
          "base_uri": "https://localhost:8080/",
          "height": 34
        }
      },
      "source": [
        "y_train[:10]"
      ],
      "execution_count": 7,
      "outputs": [
        {
          "output_type": "execute_result",
          "data": {
            "text/plain": [
              "array([5, 0, 4, 1, 9, 2, 1, 3, 1, 4], dtype=uint8)"
            ]
          },
          "metadata": {
            "tags": []
          },
          "execution_count": 7
        }
      ]
    },
    {
      "cell_type": "code",
      "metadata": {
        "id": "ZG8JiXR39FHC",
        "colab_type": "code",
        "colab": {}
      },
      "source": [
        "# Convert 1-dimensional class arrays to 10-dimensional class matrices\n",
        "Y_train = np_utils.to_categorical(y_train, 10)\n",
        "Y_test = np_utils.to_categorical(y_test, 10)"
      ],
      "execution_count": 0,
      "outputs": []
    },
    {
      "cell_type": "code",
      "metadata": {
        "id": "fYlFRvKS9HMB",
        "colab_type": "code",
        "outputId": "ddd062a5-debf-4b85-9438-121d801482d5",
        "colab": {
          "base_uri": "https://localhost:8080/",
          "height": 187
        }
      },
      "source": [
        "Y_train[:10]\n"
      ],
      "execution_count": 9,
      "outputs": [
        {
          "output_type": "execute_result",
          "data": {
            "text/plain": [
              "array([[0., 0., 0., 0., 0., 1., 0., 0., 0., 0.],\n",
              "       [1., 0., 0., 0., 0., 0., 0., 0., 0., 0.],\n",
              "       [0., 0., 0., 0., 1., 0., 0., 0., 0., 0.],\n",
              "       [0., 1., 0., 0., 0., 0., 0., 0., 0., 0.],\n",
              "       [0., 0., 0., 0., 0., 0., 0., 0., 0., 1.],\n",
              "       [0., 0., 1., 0., 0., 0., 0., 0., 0., 0.],\n",
              "       [0., 1., 0., 0., 0., 0., 0., 0., 0., 0.],\n",
              "       [0., 0., 0., 1., 0., 0., 0., 0., 0., 0.],\n",
              "       [0., 1., 0., 0., 0., 0., 0., 0., 0., 0.],\n",
              "       [0., 0., 0., 0., 1., 0., 0., 0., 0., 0.]], dtype=float32)"
            ]
          },
          "metadata": {
            "tags": []
          },
          "execution_count": 9
        }
      ]
    },
    {
      "cell_type": "code",
      "metadata": {
        "id": "9XuddAnCFP-u",
        "colab_type": "code",
        "outputId": "56a62ae8-daaa-4cef-82c5-2b6331d21f80",
        "colab": {
          "base_uri": "https://localhost:8080/",
          "height": 547
        }
      },
      "source": [
        "from keras.layers import Activation\n",
        "model = Sequential()\n",
        "droprate=0.08\n",
        "\n",
        "\n",
        "# Initial Block\n",
        "##Input shape (28 X 28 X 1) \n",
        "model.add(Convolution2D(10, 3, 3, activation='relu', input_shape=(28,28,1)))\n",
        "            # RF  (3 X 3), O/p: (26 X 26 X 10)\n",
        "model.add(BatchNormalization())\n",
        "model.add(Dropout(droprate))\n",
        "\n",
        "\n",
        "# Convolution Block\n",
        "model.add(Convolution2D(16,3,3, activation = 'relu'))  # RF: 5X5, o/p: 24X24X16\n",
        "model.add(BatchNormalization())\n",
        "model.add(Convolution2D(16,3,3, activation = 'relu')) # RF: 7x7, o/p: 22x22x16\n",
        "model.add(BatchNormalization())\n",
        "model.add(Dropout(droprate))\n",
        "\n",
        "\n",
        "# Transition Block\n",
        "model.add(MaxPooling2D(2,2))                          # RF: 14x14, o/p: 11x11x16\n",
        "model.add(Convolution2D(16,1,1, activation = 'relu')) # RF: 14x14, o/p: 11x11x16\n",
        "model.add(BatchNormalization())\n",
        "model.add(Dropout(droprate))\n",
        "\n",
        "\n",
        "# Convolution Block\n",
        "model.add(Convolution2D(16,3,3, activation = 'relu'))  # RF:16x16, o/p: 9x9x16\n",
        "model.add(BatchNormalization())\n",
        "model.add(Dropout(droprate))\n",
        "model.add(Convolution2D(16,3,3, activation = 'relu')) # RF:18x18, o/p: 7x7x16\n",
        "model.add(BatchNormalization())\n",
        "model.add(Dropout(droprate))\n",
        "\n",
        "\n",
        "# Transition Block\n",
        "model.add(Convolution2D(16, 1, 1, activation='relu'))  # RF: 18x18, o/p: 7x7x16\n",
        "model.add(BatchNormalization())\n",
        "model.add(Dropout(droprate))\n",
        "\n",
        "\n",
        "# Convolution Block\n",
        "model.add(Convolution2D(16,3,3, activation = 'relu'))  # RF:20x20, o/p: 5x5x16\n",
        "model.add(BatchNormalization())\n",
        "model.add(Dropout(droprate))\n",
        "\n",
        "\n",
        "# Transition Block\n",
        "model.add(Convolution2D(10, 1, 1, activation='relu'))  # RF: 20x20, o/p: 5x5x10\n",
        "model.add(BatchNormalization())\n",
        "model.add(Dropout(droprate))\n",
        "\n",
        "\n",
        "# O/P layer\n",
        "model.add(Convolution2D(10, 5,5))                      # RF: 20x20, o/p: 1x1x10\n",
        "model.add(Flatten())\n",
        "model.add(Activation('softmax'))\n",
        "\n"
      ],
      "execution_count": 10,
      "outputs": [
        {
          "output_type": "stream",
          "text": [
            "WARNING: Logging before flag parsing goes to stderr.\n",
            "W0623 15:19:30.968899 139659383551872 deprecation_wrapper.py:119] From /usr/local/lib/python3.6/dist-packages/keras/backend/tensorflow_backend.py:74: The name tf.get_default_graph is deprecated. Please use tf.compat.v1.get_default_graph instead.\n",
            "\n",
            "/usr/local/lib/python3.6/dist-packages/ipykernel_launcher.py:8: UserWarning: Update your `Conv2D` call to the Keras 2 API: `Conv2D(10, (3, 3), activation=\"relu\", input_shape=(28, 28, 1...)`\n",
            "  \n",
            "W0623 15:19:31.030626 139659383551872 deprecation_wrapper.py:119] From /usr/local/lib/python3.6/dist-packages/keras/backend/tensorflow_backend.py:517: The name tf.placeholder is deprecated. Please use tf.compat.v1.placeholder instead.\n",
            "\n",
            "W0623 15:19:31.035161 139659383551872 deprecation_wrapper.py:119] From /usr/local/lib/python3.6/dist-packages/keras/backend/tensorflow_backend.py:4138: The name tf.random_uniform is deprecated. Please use tf.random.uniform instead.\n",
            "\n",
            "W0623 15:19:31.137803 139659383551872 deprecation_wrapper.py:119] From /usr/local/lib/python3.6/dist-packages/keras/backend/tensorflow_backend.py:174: The name tf.get_default_session is deprecated. Please use tf.compat.v1.get_default_session instead.\n",
            "\n",
            "W0623 15:19:31.148176 139659383551872 deprecation_wrapper.py:119] From /usr/local/lib/python3.6/dist-packages/keras/backend/tensorflow_backend.py:181: The name tf.ConfigProto is deprecated. Please use tf.compat.v1.ConfigProto instead.\n",
            "\n",
            "W0623 15:19:33.401385 139659383551872 deprecation_wrapper.py:119] From /usr/local/lib/python3.6/dist-packages/keras/backend/tensorflow_backend.py:1834: The name tf.nn.fused_batch_norm is deprecated. Please use tf.compat.v1.nn.fused_batch_norm instead.\n",
            "\n",
            "W0623 15:19:33.597855 139659383551872 deprecation.py:506] From /usr/local/lib/python3.6/dist-packages/keras/backend/tensorflow_backend.py:3445: calling dropout (from tensorflow.python.ops.nn_ops) with keep_prob is deprecated and will be removed in a future version.\n",
            "Instructions for updating:\n",
            "Please use `rate` instead of `keep_prob`. Rate should be set to `rate = 1 - keep_prob`.\n",
            "/usr/local/lib/python3.6/dist-packages/ipykernel_launcher.py:15: UserWarning: Update your `Conv2D` call to the Keras 2 API: `Conv2D(16, (3, 3), activation=\"relu\")`\n",
            "  from ipykernel import kernelapp as app\n",
            "/usr/local/lib/python3.6/dist-packages/ipykernel_launcher.py:17: UserWarning: Update your `Conv2D` call to the Keras 2 API: `Conv2D(16, (3, 3), activation=\"relu\")`\n",
            "W0623 15:19:34.495044 139659383551872 deprecation_wrapper.py:119] From /usr/local/lib/python3.6/dist-packages/keras/backend/tensorflow_backend.py:3976: The name tf.nn.max_pool is deprecated. Please use tf.nn.max_pool2d instead.\n",
            "\n",
            "/usr/local/lib/python3.6/dist-packages/ipykernel_launcher.py:24: UserWarning: Update your `Conv2D` call to the Keras 2 API: `Conv2D(16, (1, 1), activation=\"relu\")`\n",
            "/usr/local/lib/python3.6/dist-packages/ipykernel_launcher.py:30: UserWarning: Update your `Conv2D` call to the Keras 2 API: `Conv2D(16, (3, 3), activation=\"relu\")`\n",
            "/usr/local/lib/python3.6/dist-packages/ipykernel_launcher.py:33: UserWarning: Update your `Conv2D` call to the Keras 2 API: `Conv2D(16, (3, 3), activation=\"relu\")`\n",
            "/usr/local/lib/python3.6/dist-packages/ipykernel_launcher.py:39: UserWarning: Update your `Conv2D` call to the Keras 2 API: `Conv2D(16, (1, 1), activation=\"relu\")`\n",
            "/usr/local/lib/python3.6/dist-packages/ipykernel_launcher.py:45: UserWarning: Update your `Conv2D` call to the Keras 2 API: `Conv2D(16, (3, 3), activation=\"relu\")`\n",
            "/usr/local/lib/python3.6/dist-packages/ipykernel_launcher.py:51: UserWarning: Update your `Conv2D` call to the Keras 2 API: `Conv2D(10, (1, 1), activation=\"relu\")`\n",
            "/usr/local/lib/python3.6/dist-packages/ipykernel_launcher.py:57: UserWarning: Update your `Conv2D` call to the Keras 2 API: `Conv2D(10, (5, 5))`\n"
          ],
          "name": "stderr"
        }
      ]
    },
    {
      "cell_type": "code",
      "metadata": {
        "id": "TzdAYg1k9K7Z",
        "colab_type": "code",
        "outputId": "dd8560ab-8c22-47d5-8f52-51abf4050c32",
        "colab": {
          "base_uri": "https://localhost:8080/",
          "height": 1156
        }
      },
      "source": [
        "model.summary()"
      ],
      "execution_count": 11,
      "outputs": [
        {
          "output_type": "stream",
          "text": [
            "_________________________________________________________________\n",
            "Layer (type)                 Output Shape              Param #   \n",
            "=================================================================\n",
            "conv2d_1 (Conv2D)            (None, 26, 26, 10)        100       \n",
            "_________________________________________________________________\n",
            "batch_normalization_1 (Batch (None, 26, 26, 10)        40        \n",
            "_________________________________________________________________\n",
            "dropout_1 (Dropout)          (None, 26, 26, 10)        0         \n",
            "_________________________________________________________________\n",
            "conv2d_2 (Conv2D)            (None, 24, 24, 16)        1456      \n",
            "_________________________________________________________________\n",
            "batch_normalization_2 (Batch (None, 24, 24, 16)        64        \n",
            "_________________________________________________________________\n",
            "conv2d_3 (Conv2D)            (None, 22, 22, 16)        2320      \n",
            "_________________________________________________________________\n",
            "batch_normalization_3 (Batch (None, 22, 22, 16)        64        \n",
            "_________________________________________________________________\n",
            "dropout_2 (Dropout)          (None, 22, 22, 16)        0         \n",
            "_________________________________________________________________\n",
            "max_pooling2d_1 (MaxPooling2 (None, 11, 11, 16)        0         \n",
            "_________________________________________________________________\n",
            "conv2d_4 (Conv2D)            (None, 11, 11, 16)        272       \n",
            "_________________________________________________________________\n",
            "batch_normalization_4 (Batch (None, 11, 11, 16)        64        \n",
            "_________________________________________________________________\n",
            "dropout_3 (Dropout)          (None, 11, 11, 16)        0         \n",
            "_________________________________________________________________\n",
            "conv2d_5 (Conv2D)            (None, 9, 9, 16)          2320      \n",
            "_________________________________________________________________\n",
            "batch_normalization_5 (Batch (None, 9, 9, 16)          64        \n",
            "_________________________________________________________________\n",
            "dropout_4 (Dropout)          (None, 9, 9, 16)          0         \n",
            "_________________________________________________________________\n",
            "conv2d_6 (Conv2D)            (None, 7, 7, 16)          2320      \n",
            "_________________________________________________________________\n",
            "batch_normalization_6 (Batch (None, 7, 7, 16)          64        \n",
            "_________________________________________________________________\n",
            "dropout_5 (Dropout)          (None, 7, 7, 16)          0         \n",
            "_________________________________________________________________\n",
            "conv2d_7 (Conv2D)            (None, 7, 7, 16)          272       \n",
            "_________________________________________________________________\n",
            "batch_normalization_7 (Batch (None, 7, 7, 16)          64        \n",
            "_________________________________________________________________\n",
            "dropout_6 (Dropout)          (None, 7, 7, 16)          0         \n",
            "_________________________________________________________________\n",
            "conv2d_8 (Conv2D)            (None, 5, 5, 16)          2320      \n",
            "_________________________________________________________________\n",
            "batch_normalization_8 (Batch (None, 5, 5, 16)          64        \n",
            "_________________________________________________________________\n",
            "dropout_7 (Dropout)          (None, 5, 5, 16)          0         \n",
            "_________________________________________________________________\n",
            "conv2d_9 (Conv2D)            (None, 5, 5, 10)          170       \n",
            "_________________________________________________________________\n",
            "batch_normalization_9 (Batch (None, 5, 5, 10)          40        \n",
            "_________________________________________________________________\n",
            "dropout_8 (Dropout)          (None, 5, 5, 10)          0         \n",
            "_________________________________________________________________\n",
            "conv2d_10 (Conv2D)           (None, 1, 1, 10)          2510      \n",
            "_________________________________________________________________\n",
            "flatten_1 (Flatten)          (None, 10)                0         \n",
            "_________________________________________________________________\n",
            "activation_1 (Activation)    (None, 10)                0         \n",
            "=================================================================\n",
            "Total params: 14,588\n",
            "Trainable params: 14,324\n",
            "Non-trainable params: 264\n",
            "_________________________________________________________________\n"
          ],
          "name": "stdout"
        }
      ]
    },
    {
      "cell_type": "code",
      "metadata": {
        "id": "Zp6SuGrL9M3h",
        "colab_type": "code",
        "colab": {
          "base_uri": "https://localhost:8080/",
          "height": 51
        },
        "outputId": "3a45623a-cdfd-404e-d43e-3722705cd496"
      },
      "source": [
        "model.compile(loss='categorical_crossentropy',\n",
        "             optimizer='adam',\n",
        "             metrics=['accuracy'])"
      ],
      "execution_count": 12,
      "outputs": [
        {
          "output_type": "stream",
          "text": [
            "W0623 15:19:36.788532 139659383551872 deprecation_wrapper.py:119] From /usr/local/lib/python3.6/dist-packages/keras/optimizers.py:790: The name tf.train.Optimizer is deprecated. Please use tf.compat.v1.train.Optimizer instead.\n",
            "\n"
          ],
          "name": "stderr"
        }
      ]
    },
    {
      "cell_type": "code",
      "metadata": {
        "id": "4xWoKhPY9Of5",
        "colab_type": "code",
        "outputId": "98295bbc-5fdf-4024-c64f-ba6c77ff91ad",
        "colab": {
          "base_uri": "https://localhost:8080/",
          "height": 1142
        }
      },
      "source": [
        "#model.fit(X_train, Y_train, batch_size=32, nb_epoch=20, verbose=1)\n",
        "model.fit(X_train, Y_train, batch_size=64, \n",
        "          epochs=30, verbose=1, \n",
        "          validation_data=(X_test, Y_test))"
      ],
      "execution_count": 13,
      "outputs": [
        {
          "output_type": "stream",
          "text": [
            "W0623 15:19:37.338567 139659383551872 deprecation.py:323] From /usr/local/lib/python3.6/dist-packages/tensorflow/python/ops/math_grad.py:1250: add_dispatch_support.<locals>.wrapper (from tensorflow.python.ops.array_ops) is deprecated and will be removed in a future version.\n",
            "Instructions for updating:\n",
            "Use tf.where in 2.0, which has the same broadcast rule as np.where\n"
          ],
          "name": "stderr"
        },
        {
          "output_type": "stream",
          "text": [
            "Train on 60000 samples, validate on 10000 samples\n",
            "Epoch 1/30\n",
            "60000/60000 [==============================] - 56s 932us/step - loss: 0.3509 - acc: 0.8899 - val_loss: 0.0710 - val_acc: 0.9769\n",
            "Epoch 2/30\n",
            "60000/60000 [==============================] - 42s 697us/step - loss: 0.0911 - acc: 0.9710 - val_loss: 0.0580 - val_acc: 0.9810\n",
            "Epoch 3/30\n",
            "60000/60000 [==============================] - 43s 716us/step - loss: 0.0689 - acc: 0.9786 - val_loss: 0.0426 - val_acc: 0.9859\n",
            "Epoch 4/30\n",
            "60000/60000 [==============================] - 42s 698us/step - loss: 0.0556 - acc: 0.9821 - val_loss: 0.0405 - val_acc: 0.9868\n",
            "Epoch 5/30\n",
            "60000/60000 [==============================] - 41s 691us/step - loss: 0.0497 - acc: 0.9845 - val_loss: 0.0303 - val_acc: 0.9900\n",
            "Epoch 6/30\n",
            "60000/60000 [==============================] - 42s 705us/step - loss: 0.0447 - acc: 0.9859 - val_loss: 0.0308 - val_acc: 0.9901\n",
            "Epoch 7/30\n",
            "60000/60000 [==============================] - 44s 729us/step - loss: 0.0411 - acc: 0.9869 - val_loss: 0.0289 - val_acc: 0.9909\n",
            "Epoch 8/30\n",
            "60000/60000 [==============================] - 41s 686us/step - loss: 0.0402 - acc: 0.9869 - val_loss: 0.0315 - val_acc: 0.9901\n",
            "Epoch 9/30\n",
            "60000/60000 [==============================] - 27s 443us/step - loss: 0.0352 - acc: 0.9885 - val_loss: 0.0301 - val_acc: 0.9909\n",
            "Epoch 10/30\n",
            "60000/60000 [==============================] - 26s 439us/step - loss: 0.0349 - acc: 0.9889 - val_loss: 0.0215 - val_acc: 0.9924\n",
            "Epoch 11/30\n",
            "60000/60000 [==============================] - 26s 439us/step - loss: 0.0335 - acc: 0.9891 - val_loss: 0.0229 - val_acc: 0.9925\n",
            "Epoch 12/30\n",
            "60000/60000 [==============================] - 27s 454us/step - loss: 0.0321 - acc: 0.9894 - val_loss: 0.0271 - val_acc: 0.9912\n",
            "Epoch 13/30\n",
            "60000/60000 [==============================] - 27s 445us/step - loss: 0.0312 - acc: 0.9903 - val_loss: 0.0231 - val_acc: 0.9918\n",
            "Epoch 14/30\n",
            "60000/60000 [==============================] - 26s 442us/step - loss: 0.0306 - acc: 0.9895 - val_loss: 0.0260 - val_acc: 0.9922\n",
            "Epoch 15/30\n",
            "60000/60000 [==============================] - 26s 437us/step - loss: 0.0284 - acc: 0.9911 - val_loss: 0.0211 - val_acc: 0.9930\n",
            "Epoch 16/30\n",
            "60000/60000 [==============================] - 27s 446us/step - loss: 0.0267 - acc: 0.9916 - val_loss: 0.0242 - val_acc: 0.9924\n",
            "Epoch 17/30\n",
            "60000/60000 [==============================] - 40s 669us/step - loss: 0.0286 - acc: 0.9906 - val_loss: 0.0250 - val_acc: 0.9919\n",
            "Epoch 18/30\n",
            "60000/60000 [==============================] - 42s 705us/step - loss: 0.0252 - acc: 0.9917 - val_loss: 0.0251 - val_acc: 0.9920\n",
            "Epoch 19/30\n",
            "60000/60000 [==============================] - 43s 718us/step - loss: 0.0254 - acc: 0.9915 - val_loss: 0.0252 - val_acc: 0.9929\n",
            "Epoch 20/30\n",
            "60000/60000 [==============================] - 29s 478us/step - loss: 0.0248 - acc: 0.9922 - val_loss: 0.0226 - val_acc: 0.9929\n",
            "Epoch 21/30\n",
            "60000/60000 [==============================] - 27s 446us/step - loss: 0.0232 - acc: 0.9925 - val_loss: 0.0272 - val_acc: 0.9925\n",
            "Epoch 22/30\n",
            "60000/60000 [==============================] - 28s 467us/step - loss: 0.0233 - acc: 0.9924 - val_loss: 0.0211 - val_acc: 0.9934\n",
            "Epoch 23/30\n",
            "60000/60000 [==============================] - 27s 447us/step - loss: 0.0229 - acc: 0.9927 - val_loss: 0.0234 - val_acc: 0.9925\n",
            "Epoch 24/30\n",
            "60000/60000 [==============================] - 28s 458us/step - loss: 0.0228 - acc: 0.9929 - val_loss: 0.0232 - val_acc: 0.9929\n",
            "Epoch 25/30\n",
            "60000/60000 [==============================] - 28s 460us/step - loss: 0.0208 - acc: 0.9932 - val_loss: 0.0235 - val_acc: 0.9930\n",
            "Epoch 26/30\n",
            "60000/60000 [==============================] - 27s 447us/step - loss: 0.0205 - acc: 0.9936 - val_loss: 0.0274 - val_acc: 0.9925\n",
            "Epoch 27/30\n",
            "60000/60000 [==============================] - 19s 310us/step - loss: 0.0209 - acc: 0.9930 - val_loss: 0.0212 - val_acc: 0.9939\n",
            "Epoch 28/30\n",
            "60000/60000 [==============================] - 16s 260us/step - loss: 0.0211 - acc: 0.9927 - val_loss: 0.0243 - val_acc: 0.9932\n",
            "Epoch 29/30\n",
            "60000/60000 [==============================] - 16s 265us/step - loss: 0.0195 - acc: 0.9935 - val_loss: 0.0233 - val_acc: 0.9931\n",
            "Epoch 30/30\n",
            "60000/60000 [==============================] - 16s 264us/step - loss: 0.0202 - acc: 0.9933 - val_loss: 0.0228 - val_acc: 0.9938\n"
          ],
          "name": "stdout"
        },
        {
          "output_type": "execute_result",
          "data": {
            "text/plain": [
              "<keras.callbacks.History at 0x7f04b25ca2e8>"
            ]
          },
          "metadata": {
            "tags": []
          },
          "execution_count": 13
        }
      ]
    },
    {
      "cell_type": "code",
      "metadata": {
        "id": "AtsH-lLk-eLb",
        "colab_type": "code",
        "colab": {}
      },
      "source": [
        "score = model.evaluate(X_test, Y_test, verbose=0)"
      ],
      "execution_count": 0,
      "outputs": []
    },
    {
      "cell_type": "code",
      "metadata": {
        "id": "mkX8JMv79q9r",
        "colab_type": "code",
        "outputId": "b0584ba7-5a3e-4a1b-c885-1b351d4420a0",
        "colab": {
          "base_uri": "https://localhost:8080/",
          "height": 34
        }
      },
      "source": [
        "print(score)"
      ],
      "execution_count": 15,
      "outputs": [
        {
          "output_type": "stream",
          "text": [
            "[0.0227820855637372, 0.9938]\n"
          ],
          "name": "stdout"
        }
      ]
    },
    {
      "cell_type": "code",
      "metadata": {
        "id": "OCWoJkwE9suh",
        "colab_type": "code",
        "colab": {}
      },
      "source": [
        "y_pred = model.predict(X_test)"
      ],
      "execution_count": 0,
      "outputs": []
    },
    {
      "cell_type": "code",
      "metadata": {
        "id": "Ym7iCFBm9uBs",
        "colab_type": "code",
        "outputId": "e4ae05be-4ba1-44eb-c272-eb9ec12db96c",
        "colab": {
          "base_uri": "https://localhost:8080/",
          "height": 493
        }
      },
      "source": [
        "print(y_pred[:9])\n",
        "print(y_test[:9])"
      ],
      "execution_count": 17,
      "outputs": [
        {
          "output_type": "stream",
          "text": [
            "[[1.62684167e-12 7.69220954e-09 5.03689312e-10 9.34924405e-09\n",
            "  3.29142150e-13 7.19837731e-12 8.26925550e-16 1.00000000e+00\n",
            "  1.32216972e-11 1.06264002e-08]\n",
            " [4.39046431e-07 1.47337150e-05 9.99984503e-01 3.41951036e-08\n",
            "  1.47561074e-08 1.41536999e-11 3.28543138e-07 7.62683805e-11\n",
            "  4.95786634e-10 3.67253519e-11]\n",
            " [1.04210356e-10 1.00000000e+00 9.80365233e-11 1.91389682e-11\n",
            "  1.90992129e-08 5.14237090e-11 1.21142332e-10 2.61410555e-08\n",
            "  1.73803638e-10 1.41069767e-10]\n",
            " [9.99763191e-01 4.81867983e-11 3.15424509e-09 3.04338050e-06\n",
            "  3.13270277e-07 6.07332538e-07 2.19247857e-04 3.64633657e-09\n",
            "  2.44979788e-07 1.33253434e-05]\n",
            " [7.35414808e-14 1.40958079e-11 2.23877801e-13 2.87789688e-16\n",
            "  1.00000000e+00 3.41493354e-13 8.34181075e-12 3.93070168e-12\n",
            "  1.76751148e-11 1.90681915e-09]\n",
            " [2.01201139e-11 1.00000000e+00 4.11142370e-10 1.28190828e-12\n",
            "  1.80194899e-08 2.71470064e-12 8.92637353e-12 2.97457436e-08\n",
            "  2.48944042e-11 1.72778028e-10]\n",
            " [2.03676603e-10 6.86428962e-07 2.08134746e-10 4.00752131e-13\n",
            "  9.99921560e-01 9.14953546e-07 4.07545941e-11 1.27900012e-05\n",
            "  5.03286685e-07 6.35007746e-05]\n",
            " [9.54284918e-09 4.33319526e-11 1.49857885e-06 1.56753813e-07\n",
            "  2.08023866e-03 2.30068231e-09 6.93066604e-10 1.81482085e-09\n",
            "  3.92366758e-07 9.97917712e-01]\n",
            " [1.59544385e-07 7.58035019e-13 1.78948575e-11 2.63518218e-11\n",
            "  3.27768174e-10 9.99952316e-01 4.72182692e-05 1.09413277e-11\n",
            "  1.26410118e-08 2.89847435e-07]]\n",
            "[7 2 1 0 4 1 4 9 5]\n"
          ],
          "name": "stdout"
        }
      ]
    },
    {
      "cell_type": "code",
      "metadata": {
        "id": "CT--y98_dr2T",
        "colab_type": "code",
        "colab": {}
      },
      "source": [
        "layer_dict = dict([(layer.name, layer) for layer in model.layers])"
      ],
      "execution_count": 0,
      "outputs": []
    },
    {
      "cell_type": "code",
      "metadata": {
        "id": "2GY4Upv4dsUR",
        "colab_type": "code",
        "outputId": "05b0b82e-e53c-445f-d540-e52e97244d8f",
        "colab": {
          "base_uri": "https://localhost:8080/",
          "height": 316
        }
      },
      "source": [
        "import numpy as np\n",
        "from matplotlib import pyplot as plt\n",
        "from keras import backend as K\n",
        "%matplotlib inline\n",
        "# util function to convert a tensor into a valid image\n",
        "def deprocess_image(x):\n",
        "    # normalize tensor: center on 0., ensure std is 0.1\n",
        "    x -= x.mean()\n",
        "    x /= (x.std() + 1e-5)\n",
        "    x *= 0.1\n",
        "\n",
        "    # clip to [0, 1]\n",
        "    x += 0.5\n",
        "    x = np.clip(x, 0, 1)\n",
        "\n",
        "    # convert to RGB array\n",
        "    x *= 255\n",
        "    #x = x.transpose((1, 2, 0))\n",
        "    x = np.clip(x, 0, 255).astype('uint8')\n",
        "    return x\n",
        "\n",
        "def vis_img_in_filter(img = np.array(X_train[2]).reshape((1, 28, 28, 1)).astype(np.float64), \n",
        "                      layer_name = 'conv2d_14'):\n",
        "    layer_output = layer_dict[layer_name].output\n",
        "    img_ascs = list()\n",
        "    for filter_index in range(layer_output.shape[3]):\n",
        "        # build a loss function that maximizes the activation\n",
        "        # of the nth filter of the layer considered\n",
        "        loss = K.mean(layer_output[:, :, :, filter_index])\n",
        "\n",
        "        # compute the gradient of the input picture wrt this loss\n",
        "        grads = K.gradients(loss, model.input)[0]\n",
        "\n",
        "        # normalization trick: we normalize the gradient\n",
        "        grads /= (K.sqrt(K.mean(K.square(grads))) + 1e-5)\n",
        "\n",
        "        # this function returns the loss and grads given the input picture\n",
        "        iterate = K.function([model.input], [loss, grads])\n",
        "\n",
        "        # step size for gradient ascent\n",
        "        step = 5.\n",
        "\n",
        "        img_asc = np.array(img)\n",
        "        # run gradient ascent for 20 steps\n",
        "        for i in range(20):\n",
        "            loss_value, grads_value = iterate([img_asc])\n",
        "            img_asc += grads_value * step\n",
        "\n",
        "        img_asc = img_asc[0]\n",
        "        img_ascs.append(deprocess_image(img_asc).reshape((28, 28)))\n",
        "        \n",
        "    if layer_output.shape[3] >= 35:\n",
        "        plot_x, plot_y = 6, 6\n",
        "    elif layer_output.shape[3] >= 23:\n",
        "        plot_x, plot_y = 4, 6\n",
        "    elif layer_output.shape[3] >= 11:\n",
        "        plot_x, plot_y = 2, 6\n",
        "    else:\n",
        "        plot_x, plot_y = 1, 2\n",
        "    fig, ax = plt.subplots(plot_x, plot_y, figsize = (12, 12))\n",
        "    ax[0, 0].imshow(img.reshape((28, 28)), cmap = 'gray')\n",
        "    ax[0, 0].set_title('Input image')\n",
        "    fig.suptitle('Input image and %s filters' % (layer_name,))\n",
        "    fig.tight_layout(pad = 0.3, rect = [0, 0, 0.9, 0.9])\n",
        "    for (x, y) in [(i, j) for i in range(plot_x) for j in range(plot_y)]:\n",
        "        if x == 0 and y == 0:\n",
        "            continue\n",
        "        ax[x, y].imshow(img_ascs[x * plot_y + y - 1], cmap = 'gray')\n",
        "        ax[x, y].set_title('filter %d' % (x * plot_y + y - 1))\n",
        "\n",
        "vis_img_in_filter()"
      ],
      "execution_count": 19,
      "outputs": [
        {
          "output_type": "error",
          "ename": "KeyError",
          "evalue": "ignored",
          "traceback": [
            "\u001b[0;31m---------------------------------------------------------------------------\u001b[0m",
            "\u001b[0;31mKeyError\u001b[0m                                  Traceback (most recent call last)",
            "\u001b[0;32m<ipython-input-19-19229f66b51a>\u001b[0m in \u001b[0;36m<module>\u001b[0;34m()\u001b[0m\n\u001b[1;32m     69\u001b[0m         \u001b[0max\u001b[0m\u001b[0;34m[\u001b[0m\u001b[0mx\u001b[0m\u001b[0;34m,\u001b[0m \u001b[0my\u001b[0m\u001b[0;34m]\u001b[0m\u001b[0;34m.\u001b[0m\u001b[0mset_title\u001b[0m\u001b[0;34m(\u001b[0m\u001b[0;34m'filter %d'\u001b[0m \u001b[0;34m%\u001b[0m \u001b[0;34m(\u001b[0m\u001b[0mx\u001b[0m \u001b[0;34m*\u001b[0m \u001b[0mplot_y\u001b[0m \u001b[0;34m+\u001b[0m \u001b[0my\u001b[0m \u001b[0;34m-\u001b[0m \u001b[0;36m1\u001b[0m\u001b[0;34m)\u001b[0m\u001b[0;34m)\u001b[0m\u001b[0;34m\u001b[0m\u001b[0;34m\u001b[0m\u001b[0m\n\u001b[1;32m     70\u001b[0m \u001b[0;34m\u001b[0m\u001b[0m\n\u001b[0;32m---> 71\u001b[0;31m \u001b[0mvis_img_in_filter\u001b[0m\u001b[0;34m(\u001b[0m\u001b[0;34m)\u001b[0m\u001b[0;34m\u001b[0m\u001b[0;34m\u001b[0m\u001b[0m\n\u001b[0m",
            "\u001b[0;32m<ipython-input-19-19229f66b51a>\u001b[0m in \u001b[0;36mvis_img_in_filter\u001b[0;34m(img, layer_name)\u001b[0m\n\u001b[1;32m     22\u001b[0m def vis_img_in_filter(img = np.array(X_train[2]).reshape((1, 28, 28, 1)).astype(np.float64), \n\u001b[1;32m     23\u001b[0m                       layer_name = 'conv2d_14'):\n\u001b[0;32m---> 24\u001b[0;31m     \u001b[0mlayer_output\u001b[0m \u001b[0;34m=\u001b[0m \u001b[0mlayer_dict\u001b[0m\u001b[0;34m[\u001b[0m\u001b[0mlayer_name\u001b[0m\u001b[0;34m]\u001b[0m\u001b[0;34m.\u001b[0m\u001b[0moutput\u001b[0m\u001b[0;34m\u001b[0m\u001b[0;34m\u001b[0m\u001b[0m\n\u001b[0m\u001b[1;32m     25\u001b[0m     \u001b[0mimg_ascs\u001b[0m \u001b[0;34m=\u001b[0m \u001b[0mlist\u001b[0m\u001b[0;34m(\u001b[0m\u001b[0;34m)\u001b[0m\u001b[0;34m\u001b[0m\u001b[0;34m\u001b[0m\u001b[0m\n\u001b[1;32m     26\u001b[0m     \u001b[0;32mfor\u001b[0m \u001b[0mfilter_index\u001b[0m \u001b[0;32min\u001b[0m \u001b[0mrange\u001b[0m\u001b[0;34m(\u001b[0m\u001b[0mlayer_output\u001b[0m\u001b[0;34m.\u001b[0m\u001b[0mshape\u001b[0m\u001b[0;34m[\u001b[0m\u001b[0;36m3\u001b[0m\u001b[0;34m]\u001b[0m\u001b[0;34m)\u001b[0m\u001b[0;34m:\u001b[0m\u001b[0;34m\u001b[0m\u001b[0;34m\u001b[0m\u001b[0m\n",
            "\u001b[0;31mKeyError\u001b[0m: 'conv2d_14'"
          ]
        }
      ]
    },
    {
      "cell_type": "code",
      "metadata": {
        "id": "9tvptcn8dxvp",
        "colab_type": "code",
        "colab": {}
      },
      "source": [
        ""
      ],
      "execution_count": 0,
      "outputs": []
    }
  ]
}